{
  "cells": [
    {
      "cell_type": "code",
      "execution_count": null,
      "metadata": {
        "id": "MIdqH0umQWN1"
      },
      "outputs": [],
      "source": [
        "import bs4 as bs\n",
        "import requests\n",
        "import pandas as pd\n",
        "import pandas_datareader.data as web\n",
        "import datetime as dt\n",
        "import numpy as np\n",
        "import matplotlib.pyplot as plt"
      ]
    },
    {
      "cell_type": "code",
      "execution_count": null,
      "metadata": {
        "id": "Ax1olYYEQWN7",
        "outputId": "ce48b836-921e-44e9-a28a-8ba987b6c564"
      },
      "outputs": [
        {
          "name": "stdout",
          "output_type": "stream",
          "text": [
            "['MMM', 'AOS', 'ABT', 'ABBV', 'ABMD', 'ACN', 'ATVI', 'ADBE', 'AAP', 'AES', 'AFL', 'A', 'AIG', 'APD', 'AKAM', 'ALK', 'ALB', 'ARE', 'ALGN', 'ALLE', 'LNT', 'ALL', 'GOOGL', 'GOOG', 'MO', 'AMZN', 'AMCR', 'AMD', 'AEE', 'AAL', 'AEP', 'AXP', 'AMT', 'AWK', 'AMP', 'ABC', 'AME', 'AMGN', 'APH', 'ADI', 'ANSS', 'ANTM', 'AON', 'APA', 'AAPL', 'AMAT', 'APTV', 'ADM', 'ANET', 'AJG', 'AIZ', 'T', 'ATO', 'ADSK', 'ADP', 'AZO', 'AVB', 'AVY', 'BKR', 'BLL', 'BAC', 'BBWI', 'BAX', 'BDX', 'BRK.B', 'BBY', 'BIO', 'TECH', 'BIIB', 'BLK', 'BK', 'BA', 'BKNG', 'BWA', 'BXP', 'BSX', 'BMY', 'AVGO', 'BR', 'BRO', 'BF.B', 'CHRW', 'CDNS', 'CZR', 'CPB', 'COF', 'CAH', 'KMX', 'CCL', 'CARR', 'CTLT', 'CAT', 'CBOE', 'CBRE', 'CDW', 'CE', 'CNC', 'CNP', 'CDAY', 'CERN', 'CF', 'CRL', 'SCHW', 'CHTR', 'CVX', 'CMG', 'CB', 'CHD', 'CI', 'CINF', 'CTAS', 'CSCO', 'C', 'CFG', 'CTXS', 'CLX', 'CME', 'CMS', 'KO', 'CTSH', 'CL', 'CMCSA', 'CMA', 'CAG', 'COP', 'ED', 'STZ', 'COO', 'CPRT', 'GLW', 'CTVA', 'COST', 'CTRA', 'CCI', 'CSX', 'CMI', 'CVS', 'DHI', 'DHR', 'DRI', 'DVA', 'DE', 'DAL', 'XRAY', 'DVN', 'DXCM', 'FANG', 'DLR', 'DFS', 'DISCA', 'DISCK', 'DISH', 'DG', 'DLTR', 'D', 'DPZ', 'DOV', 'DOW', 'DTE', 'DUK', 'DRE', 'DD', 'DXC', 'EMN', 'ETN', 'EBAY', 'ECL', 'EIX', 'EW', 'EA', 'EMR', 'ENPH', 'ETR', 'EOG', 'EPAM', 'EFX', 'EQIX', 'EQR', 'ESS', 'EL', 'ETSY', 'EVRG', 'ES', 'RE', 'EXC', 'EXPE', 'EXPD', 'EXR', 'XOM', 'FFIV', 'FDS', 'FAST', 'FRT', 'FDX', 'FIS', 'FITB', 'FE', 'FRC', 'FISV', 'FLT', 'FMC', 'F', 'FTNT', 'FTV', 'FBHS', 'FOXA', 'FOX', 'BEN', 'FCX', 'GPS', 'GRMN', 'IT', 'GNRC', 'GD', 'GE', 'GIS', 'GM', 'GPC', 'GILD', 'GL', 'GPN', 'GS', 'GWW', 'HAL', 'HIG', 'HAS', 'HCA', 'PEAK', 'HSIC', 'HSY', 'HES', 'HPE', 'HLT', 'HOLX', 'HD', 'HON', 'HRL', 'HST', 'HWM', 'HPQ', 'HUM', 'HBAN', 'HII', 'IEX', 'IDXX', 'INFO', 'ITW', 'ILMN', 'INCY', 'IR', 'INTC', 'ICE', 'IBM', 'IP', 'IPG', 'IFF', 'INTU', 'ISRG', 'IVZ', 'IPGP', 'IQV', 'IRM', 'JKHY', 'J', 'JBHT', 'SJM', 'JNJ', 'JCI', 'JPM', 'JNPR', 'K', 'KEY', 'KEYS', 'KMB', 'KIM', 'KMI', 'KLAC', 'KHC', 'KR', 'LHX', 'LH', 'LRCX', 'LW', 'LVS', 'LDOS', 'LEN', 'LLY', 'LNC', 'LIN', 'LYV', 'LKQ', 'LMT', 'L', 'LOW', 'LUMN', 'LYB', 'MTB', 'MRO', 'MPC', 'MKTX', 'MAR', 'MMC', 'MLM', 'MAS', 'MA', 'MTCH', 'MKC', 'MCD', 'MCK', 'MDT', 'MRK', 'FB', 'MET', 'MTD', 'MGM', 'MCHP', 'MU', 'MSFT', 'MAA', 'MRNA', 'MHK', 'TAP', 'MDLZ', 'MPWR', 'MNST', 'MCO', 'MS', 'MOS', 'MSI', 'MSCI', 'NDAQ', 'NTAP', 'NFLX', 'NWL', 'NEM', 'NWSA', 'NWS', 'NEE', 'NLSN', 'NKE', 'NI', 'NSC', 'NTRS', 'NOC', 'NLOK', 'NCLH', 'NRG', 'NUE', 'NVDA', 'NVR', 'NXPI', 'ORLY', 'OXY', 'ODFL', 'OMC', 'OKE', 'ORCL', 'OGN', 'OTIS', 'PCAR', 'PKG', 'PH', 'PAYX', 'PAYC', 'PYPL', 'PENN', 'PNR', 'PBCT', 'PEP', 'PKI', 'PFE', 'PM', 'PSX', 'PNW', 'PXD', 'PNC', 'POOL', 'PPG', 'PPL', 'PFG', 'PG', 'PGR', 'PLD', 'PRU', 'PEG', 'PTC', 'PSA', 'PHM', 'PVH', 'QRVO', 'PWR', 'QCOM', 'DGX', 'RL', 'RJF', 'RTX', 'O', 'REG', 'REGN', 'RF', 'RSG', 'RMD', 'RHI', 'ROK', 'ROL', 'ROP', 'ROST', 'RCL', 'SPGI', 'CRM', 'SBAC', 'SLB', 'STX', 'SEE', 'SRE', 'NOW', 'SHW', 'SBNY', 'SPG', 'SWKS', 'SNA', 'SEDG', 'SO', 'LUV', 'SWK', 'SBUX', 'STT', 'STE', 'SYK', 'SIVB', 'SYF', 'SNPS', 'SYY', 'TMUS', 'TROW', 'TTWO', 'TPR', 'TGT', 'TEL', 'TDY', 'TFX', 'TER', 'TSLA', 'TXN', 'TXT', 'TMO', 'TJX', 'TSCO', 'TT', 'TDG', 'TRV', 'TRMB', 'TFC', 'TWTR', 'TYL', 'TSN', 'UDR', 'ULTA', 'USB', 'UAA', 'UA', 'UNP', 'UAL', 'UNH', 'UPS', 'URI', 'UHS', 'VLO', 'VTR', 'VRSN', 'VRSK', 'VZ', 'VRTX', 'VFC', 'VIAC', 'VTRS', 'V', 'VNO', 'VMC', 'WRB', 'WAB', 'WMT', 'WBA', 'DIS', 'WM', 'WAT', 'WEC', 'WFC', 'WELL', 'WST', 'WDC', 'WRK', 'WY', 'WHR', 'WMB', 'WLTW', 'WYNN', 'XEL', 'XLNX', 'XYL', 'YUM', 'ZBRA', 'ZBH', 'ZION', 'ZTS']\n"
          ]
        }
      ],
      "source": [
        "def get_tickers():\n",
        "    resp=requests.get('https://en.wikipedia.org/wiki/List_of_S%26P_500_companies')\n",
        "    soup=bs.BeautifulSoup(resp.text)\n",
        "    table=soup.find('table',{'class':'wikitable sortable'})\n",
        "    tickers=[]\n",
        "    for row in table.findAll('tr')[1:]:\n",
        "        ticker= row.findAll('td')[0].text\n",
        "        tickers.append(ticker)\n",
        "    return tickers\n",
        "\n",
        "t=get_tickers()\n",
        "tickers=[]\n",
        "for tick in t:\n",
        "    tickers.append(tick.split('\\n')[0])\n",
        "print(tickers)"
      ]
    },
    {
      "cell_type": "code",
      "execution_count": null,
      "metadata": {
        "id": "4T_hpRjUQWN-"
      },
      "outputs": [],
      "source": [
        "tickers=['MMM', 'AOS', 'ABT', 'ABBV', 'ABMD', 'ACN', 'ATVI', 'ADBE', 'AAP', 'AES', 'AFL', 'A', 'AIG', 'APD', 'AKAM', 'ALK', 'ALB', 'ARE', 'ALGN', 'ALLE', 'LNT', 'ALL', 'GOOGL', 'GOOG', 'MO', 'AMZN', 'AMCR', 'AMD', 'AEE', 'AAL', 'AEP', 'AXP', 'AMT', 'AWK', 'AMP', 'ABC', 'AME', 'AMGN', 'APH', 'ADI', 'ANSS', 'ANTM', 'AON', 'APA', 'AAPL', 'AMAT', 'APTV', 'ADM', 'ANET', 'AJG', 'AIZ', 'T', 'ATO', 'ADSK', 'ADP', 'AZO', 'AVB', 'AVY', 'BKR', 'BLL', 'BAC', 'BBWI', 'BAX', 'BDX', 'BRK.B', 'BBY', 'BIO', 'TECH', 'BIIB', 'BLK', 'BK', 'BA', 'BKNG', 'BWA', 'BXP', 'BSX', 'BMY', 'AVGO', 'BR', 'BRO', 'BF.B', 'CHRW', 'CDNS', 'CZR', 'CPB', 'COF', 'CAH', 'KMX', 'CCL', 'CARR', 'CTLT', 'CAT', 'CBOE', 'CBRE', 'CDW', 'CE', 'CNC', 'CNP', 'CDAY', 'CERN', 'CF', 'CRL', 'SCHW', 'CHTR', 'CVX', 'CMG', 'CB', 'CHD', 'CI', 'CINF', 'CTAS', 'CSCO', 'C', 'CFG', 'CTXS', 'CLX', 'CME', 'CMS', 'KO', 'CTSH', 'CL', 'CMCSA', 'CMA', 'CAG', 'COP', 'ED', 'STZ', 'COO', 'CPRT', 'GLW', 'CTVA', 'COST', 'CTRA', 'CCI', 'CSX', 'CMI', 'CVS', 'DHI', 'DHR', 'DRI', 'DVA', 'DE', 'DAL', 'XRAY', 'DVN', 'DXCM', 'FANG', 'DLR', 'DFS', 'DISCA', 'DISCK', 'DISH', 'DG', 'DLTR', 'D', 'DPZ', 'DOV', 'DOW', 'DTE', 'DUK', 'DRE', 'DD', 'DXC', 'EMN', 'ETN', 'EBAY', 'ECL', 'EIX', 'EW', 'EA', 'EMR', 'ENPH', 'ETR', 'EOG', 'EPAM', 'EFX', 'EQIX', 'EQR', 'ESS', 'EL', 'ETSY', 'EVRG', 'ES', 'RE', 'EXC', 'EXPE', 'EXPD', 'EXR', 'XOM', 'FFIV', 'FDS', 'FAST', 'FRT', 'FDX', 'FIS', 'FITB', 'FE', 'FRC', 'FISV', 'FLT', 'FMC', 'F', 'FTNT', 'FTV', 'FBHS', 'FOXA', 'FOX', 'BEN', 'FCX', 'GPS', 'GRMN', 'IT', 'GNRC', 'GD', 'GE', 'GIS', 'GM', 'GPC', 'GILD', 'GL', 'GPN', 'GS', 'GWW', 'HAL', 'HIG', 'HAS', 'HCA', 'PEAK', 'HSIC', 'HSY', 'HES', 'HPE', 'HLT', 'HOLX', 'HD', 'HON', 'HRL', 'HST', 'HWM', 'HPQ', 'HUM', 'HBAN', 'HII', 'IEX', 'IDXX', 'INFO', 'ITW', 'ILMN', 'INCY', 'IR', 'INTC', 'ICE', 'IBM', 'IP', 'IPG', 'IFF', 'INTU', 'ISRG', 'IVZ', 'IPGP', 'IQV', 'IRM', 'JKHY', 'J', 'JBHT', 'SJM', 'JNJ', 'JCI', 'JPM', 'JNPR', 'K', 'KEY', 'KEYS', 'KMB', 'KIM', 'KMI', 'KLAC', 'KHC', 'KR', 'LHX', 'LH', 'LRCX', 'LW', 'LVS', 'LDOS', 'LEN', 'LLY', 'LNC', 'LIN', 'LYV', 'LKQ', 'LMT', 'L', 'LOW', 'LUMN', 'LYB', 'MTB', 'MRO', 'MPC', 'MKTX', 'MAR', 'MMC', 'MLM', 'MAS', 'MA', 'MTCH', 'MKC', 'MCD', 'MCK', 'MDT', 'MRK', 'FB', 'MET', 'MTD', 'MGM', 'MCHP', 'MU', 'MSFT', 'MAA', 'MRNA', 'MHK', 'TAP', 'MDLZ', 'MPWR', 'MNST', 'MCO', 'MS', 'MOS', 'MSI', 'MSCI', 'NDAQ', 'NTAP', 'NFLX', 'NWL', 'NEM', 'NWSA', 'NWS', 'NEE', 'NLSN', 'NKE', 'NI', 'NSC', 'NTRS', 'NOC', 'NLOK', 'NCLH', 'NRG', 'NUE', 'NVDA', 'NVR', 'NXPI', 'ORLY', 'OXY', 'ODFL', 'OMC', 'OKE', 'ORCL', 'OGN', 'OTIS', 'PCAR', 'PKG', 'PH', 'PAYX', 'PAYC', 'PYPL', 'PENN', 'PNR', 'PBCT', 'PEP', 'PKI', 'PFE', 'PM', 'PSX', 'PNW', 'PXD', 'PNC', 'POOL', 'PPG', 'PPL', 'PFG', 'PG', 'PGR', 'PLD', 'PRU', 'PEG', 'PTC', 'PSA', 'PHM', 'PVH', 'QRVO', 'PWR', 'QCOM', 'DGX', 'RL', 'RJF', 'RTX', 'O', 'REG', 'REGN', 'RF', 'RSG', 'RMD', 'RHI', 'ROK', 'ROL', 'ROP', 'ROST', 'RCL', 'SPGI', 'CRM', 'SBAC', 'SLB', 'STX', 'SEE', 'SRE', 'NOW', 'SHW', 'SBNY', 'SPG', 'SWKS', 'SNA', 'SEDG', 'SO', 'LUV', 'SWK', 'SBUX', 'STT', 'STE', 'SYK', 'SIVB', 'SYF', 'SNPS', 'SYY', 'TMUS', 'TROW', 'TTWO', 'TPR', 'TGT', 'TEL', 'TDY', 'TFX', 'TER', 'TSLA', 'TXN', 'TXT', 'TMO', 'TJX', 'TSCO', 'TT', 'TDG', 'TRV', 'TRMB', 'TFC', 'TWTR', 'TYL', 'TSN', 'UDR', 'ULTA', 'USB', 'UAA', 'UA', 'UNP', 'UAL', 'UNH', 'UPS', 'URI', 'UHS', 'VLO', 'VTR', 'VRSN', 'VRSK', 'VZ', 'VRTX', 'VFC', 'VIAC', 'VTRS', 'V', 'VNO', 'VMC', 'WRB', 'WAB', 'WMT', 'WBA', 'DIS', 'WM', 'WAT', 'WEC', 'WFC', 'WELL', 'WST', 'WDC', 'WRK', 'WY', 'WHR', 'WMB', 'WLTW', 'WYNN', 'XEL', 'XLNX', 'XYL', 'YUM', 'ZBRA', 'ZBH', 'ZION', 'ZTS']"
      ]
    },
    {
      "cell_type": "code",
      "execution_count": null,
      "metadata": {
        "id": "YJxFtdq_QWOB"
      },
      "outputs": [],
      "source": [
        "start=dt.datetime(2010,1,1)\n",
        "end=dt.datetime(2021,12,20)"
      ]
    },
    {
      "cell_type": "code",
      "execution_count": null,
      "metadata": {
        "id": "8CFewfnkQWOD"
      },
      "outputs": [],
      "source": [
        "new_tickers=[]\n",
        "for tick in tickers:\n",
        "    try:\n",
        "        print(tick)\n",
        "        df=web.DataReader(tick,'yahoo',start,end)\n",
        "        df.to_csv('SP500/'+tick+'.csv')\n",
        "        new_tickers.append(tick)\n",
        "        \n",
        "    except:\n",
        "        print('error')"
      ]
    },
    {
      "cell_type": "code",
      "execution_count": null,
      "metadata": {
        "id": "1bjEGEyzQWOF",
        "outputId": "b56f7a46-ee3d-44b2-c38e-c8d521fd6bea"
      },
      "outputs": [
        {
          "name": "stdout",
          "output_type": "stream",
          "text": [
            "['MMM', 'AOS', 'ABT', 'ABBV', 'ABMD', 'ACN', 'ATVI', 'ADBE', 'AAP', 'AES', 'AFL', 'A', 'AIG', 'APD', 'AKAM', 'ALK', 'ALB', 'ARE', 'ALGN', 'ALLE', 'LNT', 'ALL', 'GOOGL', 'GOOG', 'MO', 'AMZN', 'AMCR', 'AMD', 'AEE', 'AAL', 'AEP', 'AXP', 'AMT', 'AWK', 'AMP', 'ABC', 'AME', 'AMGN', 'APH', 'ADI', 'ANSS', 'ANTM', 'AON', 'APA', 'AAPL', 'AMAT', 'APTV', 'ADM', 'ANET', 'AJG', 'AIZ', 'T', 'ATO', 'ADSK', 'ADP', 'AZO', 'AVB', 'AVY', 'BKR', 'BLL', 'BAC', 'BBWI', 'BAX', 'BDX', 'BBY', 'BIO', 'TECH', 'BIIB', 'BLK', 'BK', 'BA', 'BKNG', 'BWA', 'BXP', 'BSX', 'BMY', 'AVGO', 'BR', 'BRO', 'CHRW', 'CDNS', 'CZR', 'CPB', 'COF', 'CAH', 'KMX', 'CCL', 'CARR', 'CTLT', 'CAT', 'CBOE', 'CBRE', 'CDW', 'CE', 'CNC', 'CNP', 'CDAY', 'CERN', 'CF', 'CRL', 'SCHW', 'CHTR', 'CVX', 'CMG', 'CB', 'CHD', 'CI', 'CINF', 'CTAS', 'CSCO', 'C', 'CFG', 'CTXS', 'CLX', 'CME', 'CMS', 'KO', 'CTSH', 'CL', 'CMCSA', 'CMA', 'CAG', 'COP', 'ED', 'STZ', 'COO', 'CPRT', 'GLW', 'CTVA', 'COST', 'CTRA', 'CCI', 'CSX', 'CMI', 'CVS', 'DHI', 'DHR', 'DRI', 'DVA', 'DE', 'DAL', 'XRAY', 'DVN', 'DXCM', 'FANG', 'DLR', 'DFS', 'DISCA', 'DISCK', 'DISH', 'DG', 'DLTR', 'D', 'DPZ', 'DOV', 'DOW', 'DTE', 'DUK', 'DRE', 'DD', 'DXC', 'EMN', 'ETN', 'EBAY', 'ECL', 'EIX', 'EW', 'EA', 'EMR', 'ENPH', 'ETR', 'EOG', 'EPAM', 'EFX', 'EQIX', 'EQR', 'ESS', 'EL', 'ETSY', 'EVRG', 'ES', 'RE', 'EXC', 'EXPE', 'EXPD', 'EXR', 'XOM', 'FFIV', 'FDS', 'FAST', 'FRT', 'FDX', 'FIS', 'FITB', 'FE', 'FRC', 'FISV', 'FLT', 'FMC', 'F', 'FTNT', 'FTV', 'FBHS', 'FOXA', 'FOX', 'BEN', 'FCX', 'GPS', 'GRMN', 'IT', 'GNRC', 'GD', 'GE', 'GIS', 'GM', 'GPC', 'GILD', 'GL', 'GPN', 'GS', 'GWW', 'HAL', 'HIG', 'HAS', 'HCA', 'PEAK', 'HSIC', 'HSY', 'HES', 'HPE', 'HLT', 'HOLX', 'HD', 'HON', 'HRL', 'HST', 'HWM', 'HPQ', 'HUM', 'HBAN', 'HII', 'IEX', 'IDXX', 'INFO', 'ITW', 'ILMN', 'INCY', 'IR', 'INTC', 'ICE', 'IBM', 'IP', 'IPG', 'IFF', 'INTU', 'ISRG', 'IVZ', 'IPGP', 'IQV', 'IRM', 'JKHY', 'J', 'JBHT', 'SJM', 'JNJ', 'JCI', 'JPM', 'JNPR', 'K', 'KEY', 'KEYS', 'KMB', 'KIM', 'KMI', 'KLAC', 'KHC', 'KR', 'LHX', 'LH', 'LRCX', 'LW', 'LVS', 'LDOS', 'LEN', 'LLY', 'LNC', 'LIN', 'LYV', 'LKQ', 'LMT', 'L', 'LOW', 'LUMN', 'LYB', 'MTB', 'MRO', 'MPC', 'MKTX', 'MAR', 'MMC', 'MLM', 'MAS', 'MA', 'MTCH', 'MKC', 'MCD', 'MCK', 'MDT', 'MRK', 'FB', 'MET', 'MTD', 'MGM', 'MCHP', 'MU', 'MSFT', 'MAA', 'MRNA', 'MHK', 'TAP', 'MDLZ', 'MPWR', 'MNST', 'MCO', 'MS', 'MOS', 'MSI', 'MSCI', 'NDAQ', 'NTAP', 'NFLX', 'NWL', 'NEM', 'NWSA', 'NWS', 'NEE', 'NLSN', 'NKE', 'NI', 'NSC', 'NTRS', 'NOC', 'NLOK', 'NCLH', 'NRG', 'NUE', 'NVDA', 'NVR', 'NXPI', 'ORLY', 'OXY', 'ODFL', 'OMC', 'OKE', 'ORCL', 'OGN', 'OTIS', 'PCAR', 'PKG', 'PH', 'PAYX', 'PAYC', 'PYPL', 'PENN', 'PNR', 'PBCT', 'PEP', 'PKI', 'PFE', 'PM', 'PSX', 'PNW', 'PXD', 'PNC', 'POOL', 'PPG', 'PPL', 'PFG', 'PG', 'PGR', 'PLD', 'PRU', 'PEG', 'PTC', 'PSA', 'PHM', 'PVH', 'QRVO', 'PWR', 'QCOM', 'DGX', 'RL', 'RJF', 'RTX', 'O', 'REG', 'REGN', 'RF', 'RSG', 'RMD', 'RHI', 'ROK', 'ROL', 'ROP', 'ROST', 'RCL', 'SPGI', 'CRM', 'SBAC', 'SLB', 'STX', 'SEE', 'SRE', 'NOW', 'SHW', 'SBNY', 'SPG', 'SWKS', 'SNA', 'SEDG', 'SO', 'LUV', 'SWK', 'SBUX', 'STT', 'STE', 'SYK', 'SIVB', 'SYF', 'SNPS', 'SYY', 'TMUS', 'TROW', 'TTWO', 'TPR', 'TGT', 'TEL', 'TDY', 'TFX', 'TER', 'TSLA', 'TXN', 'TXT', 'TMO', 'TJX', 'TSCO', 'TT', 'TDG', 'TRV', 'TRMB', 'TFC', 'TWTR', 'TYL', 'TSN', 'UDR', 'ULTA', 'USB', 'UAA', 'UA', 'UNP', 'UAL', 'UNH', 'UPS', 'URI', 'UHS', 'VLO', 'VTR', 'VRSN', 'VRSK', 'VZ', 'VRTX', 'VFC', 'VIAC', 'VTRS', 'V', 'VNO', 'VMC', 'WRB', 'WAB', 'WMT', 'WBA', 'DIS', 'WM', 'WAT', 'WEC', 'WFC', 'WELL', 'WST', 'WDC', 'WRK', 'WY', 'WHR', 'WMB', 'WLTW', 'WYNN', 'XEL', 'XLNX', 'XYL', 'YUM', 'ZBRA', 'ZBH', 'ZION', 'ZTS']\n"
          ]
        }
      ],
      "source": [
        "print(new_tickers)"
      ]
    },
    {
      "cell_type": "code",
      "execution_count": null,
      "metadata": {
        "id": "VIPrF7ygQWOG"
      },
      "outputs": [],
      "source": [
        "\n",
        "new_tickers=['AAN', 'AAON', 'AAT', 'AAWW', 'ABCB', 'ABG', 'ABM', 'ABTX', 'ACA', 'ACLS', 'ADC', 'ADTN', 'ADUS', 'AEIS', 'AEL', 'AGO', 'AGYS', 'AHH', 'AIN', 'AIR', 'AIT', 'AJRD', 'AKR', 'ALEX', 'ALG', 'ALGT', 'ALRM', 'AMBC', 'AMCX', 'AMEH', 'AMN', 'AMPH', 'AMSF', 'AMWD', 'ANDE', 'ANF', 'ANGO', 'ANIK', 'ANIP', 'APEI', 'APOG', 'ARCB', 'ARI', 'ARLO', 'ARNC', 'AROC', 'ARR', 'ASIX', 'ASTE', 'ATGE', 'ATI', 'ATNI', 'AVA', 'AVAV', 'AVD', 'AVNS', 'AWR', 'AX', 'AXL', 'AZZ', 'B', 'BANC', 'BANF', 'BANR', 'BBBY', 'BCC', 'BCOR', 'BCPC', 'BDN', 'BFS', 'BGS', 'BHE', 'BHLB', 'BIG', 'BJRI', 'BKE', 'BKU', 'BLFS', 'BLMN', 'BMI', 'BNED', 'BOOM', 'BOOT', 'BRC', 'BRKL', 'BSIG', 'CAKE', 'CAL', 'CALM', 'CAMP', 'CARA', 'CARS', 'CASH', 'CATO', 'CBU', 'CCOI', 'CCRN', 'CCS', 'CCSI', 'CDMO', 'CEIX', 'CELH', 'CENT', 'CENTA', 'CENX', 'CEVA', 'CFFN', 'CHCO', 'CHCT', 'CHEF', 'CHRS', 'CHS', 'CHUY', 'CIR', 'CIVI', 'CLB', 'CLDT', 'CLW', 'CMTL', 'CNK', 'CNMD', 'CNSL', 'CNXN', 'COHU', 'COKE', 'COLB', 'COLL', 'CONN', 'COOP', 'CORT', 'CPE', 'CPF', 'CPK', 'CPS', 'CPSI', 'CRMT', 'CRS', 'CRVL', 'CRY', 'CSGS', 'CSII', 'CSR', 'CTRE', 'CTS', 'CUBI', 'CUTR', 'CVBF', 'CVCO', 'CVET', 'CVGW', 'CWT', 'CXW', 'CYH', 'CYTK', 'DBD', 'DBI', 'DCOM', 'DDD', 'DEA', 'DFIN', 'DGII', 'DHC', 'DIN', 'DIOD', 'DLX', 'DNOW', 'DORM', 'DRH', 'DRQ', 'DXPE', 'EAT', 'EBIX', 'EBS', 'ECOL', 'ECPG', 'EFC', 'EGBN', 'EGHT', 'EGRX', 'EHTH', 'EIG', 'ELF', 'ENDP', 'ENSG', 'ENTA', 'ENVA', 'EPAC', 'EPAY', 'EPC', 'EPRT', 'ESE', 'ETD', 'EVTC', 'EXLS', 'EXPO', 'EXTR', 'EZPW', 'FARO', 'FBC', 'FBK', 'FBNC', 'FBP', 'FBRT', 'FCF', 'FCPT', 'FDP', 'FELE', 'FF', 'FFBC', 'FHB', 'FIX', 'FIZZ', 'FLGT', 'FLOW', 'FMBI', 'FN', 'FOE', 'FORM', 'FORR', 'FOSL', 'FRGI', 'FSP', 'FSS', 'FUL', 'FWRD', 'GBX', 'GCI', 'GCO', 'GCP', 'GDOT', 'GEO', 'GES', 'GFF', 'GHL', 'GIII', 'GKOS', 'GLT', 'GMS', 'GNL', 'GNW', 'GPI', 'GPMT', 'GPRE', 'GTLS', 'GTY', 'GVA', 'GWB', 'HA', 'HAFC', 'HAYN', 'HCC', 'HCI', 'HCSG', 'HFWA', 'HI', 'HIBB', 'HLIT', 'HLX', 'HMN', 'HMST', 'HNGR', 'HNI', 'HOPE', 'HP', 'HRMY', 'HSC', 'HSII', 'HSKA', 'HSTM', 'HT', 'HTH', 'HTLD', 'HUBG', 'HVT', 'HWKN', 'HZO', 'IBP', 'IBTX', 'ICHR', 'IDCC', 'IIIN', 'IIPR', 'ILPT', 'INDB', 'INGN', 'INN', 'INT', 'INVA', 'IOSP', 'IPAR', 'IRBT', 'IRT', 'ISBC', 'ITGR', 'ITRI', 'IVR', 'JBSS', 'JBT', 'JJSF', 'JOE', 'JRVR', 'JYNT', 'KALU', 'KAMN', 'KAR', 'KELYA', 'KFY', 'KLIC', 'KN', 'KOP', 'KRA', 'KREF', 'KTB', 'KWR', 'LCII', 'LGIH', 'LGND', 'LKFN', 'LL', 'LMAT', 'LNN', 'LNTH', 'LOCO', 'LPG', 'LPI', 'LPSN', 'LQDT', 'LTC', 'LTHM', 'LXP', 'LYLT', 'LZB', 'MANT', 'MATW', 'MATX', 'MCRI', 'MCS', 'MD', 'MDC', 'MDRX', 'MED', 'MEI', 'MERC', 'MGLN', 'MGPI', 'MHO', 'MLAB', 'MLI', 'MMI', 'MMSI', 'MNRO', 'MODV', 'MOV', 'MPAA', 'MRTN', 'MSEX', 'MTDR', 'MTH', 'MTOR', 'MTRN', 'MTRX', 'MXL', 'MYE', 'MYGN', 'MYRG', 'NBHC', 'NBR', 'NBTB', 'NEO', 'NFBK', 'NKTR', 'NMIH', 'NP', 'NPK', 'NPO', 'NSIT', 'NTCT', 'NTGR', 'NTUS', 'NVEE', 'NWBI', 'NWN', 'NX', 'NXGN', 'NXRT', 'NYMT', 'ODP', 'OFG', 'OFIX', 'OI', 'OII', 'OIS', 'OMCL', 'OMI', 'ONB', 'ONL', 'ONTO', 'OPI', 'OPRX', 'ORGO', 'OSIS', 'OSPN', 'OSUR', 'OXM', 'PAHC', 'PARR', 'PATK', 'PBF', 'PBH', 'PBI', 'PCRX', 'PDCE', 'PDFS', 'PETS', 'PFBC', 'PFS', 'PGTI', 'PIPR', 'PKE', 'PLAB', 'PLAY', 'PLCE', 'PLMR', 'POLY', 'PLUS', 'PLXS', 'PMT', 'PNTG', 'POWL', 'PPBI', 'PRA', 'PRAA', 'PRDO', 'PRFT', 'PRGS', 'PRK', 'PRLB', 'PSMT', 'PTEN', 'PUMP', 'QNST', 'QURE', 'RC', 'RCII', 'RDNT', 'REGI', 'RES', 'REX', 'REZI', 'RGNX', 'RGP', 'RGR', 'RILY', 'RLGY', 'RMAX', 'RMBS', 'RNST', 'ROCK', 'ROG', 'ROIC', 'RPT', 'RRC', 'RRGB', 'RUTH', 'RWT', 'RYAM', 'SAFE', 'SAFT', 'SAH', 'SANM', 'SBCF', 'SBH', 'SBSI', 'SCHL', 'SCL', 'SCSC', 'SCVL', 'SEM', 'SENEA', 'SFBS', 'SFNC', 'SGH', 'SHAK', 'SHEN', 'SHOO', 'SIG', 'SITC', 'SJI', 'SKT', 'SKYW', 'SLCA', 'SLP', 'SLQT', 'SLVM', 'SM', 'SMP', 'SMPL', 'SNBR', 'SNEX', 'SPNT', 'SPPI', 'SPSC', 'SPTN', 'SPXC', 'SRDX', 'SSP', 'SSTK', 'STAR', 'STBA', 'STC', 'STRA', 'SUPN', 'SVC', 'SWM', 'SWN', 'SXC', 'SXI', 'TALO', 'TBBK', 'TBI', 'TBK', 'TDS', 'TCMD', 'TG', 'TGI', 'THRM', 'THRY', 'THS', 'TILE', 'TMP', 'TMST', 'TNC', 'TR', 'TREE', 'TRHC', 'TRMK', 'TRST', 'TRUP', 'TSE', 'TTEC', 'TTGT', 'TTMI', 'TUP', 'TVTY', 'TWI', 'TWO', 'UBA', 'UCBI', 'UCTT', 'UEIC', 'UFCS', 'UFI', 'UFPI', 'UHT', 'UIS', 'UNF', 'UNFI', 'UNIT', 'USNA', 'USPH', 'UTL', 'UVE', 'UVV', 'VBTX', 'VCEL', 'VECO', 'VG', 'VGR', 'VIAV', 'VIVO', 'VNDA', 'VRA', 'VRE', 'VREX', 'VRTS', 'VRTV', 'VSTO', 'VTOL', 'VVI', 'WABC', 'WD', 'WDFC', 'WETF', 'WGO', 'WIRE', 'WNC', 'WRE', 'WRLD', 'WSFS', 'WSR', 'WTS', 'WW', 'WWW', 'XHR', 'XNCR', 'XPER', 'ZEUS', 'ZUMZ', 'ZYXI']\n",
        "new_tickers=['MMM', 'AOS', 'ABT', 'ABBV', 'ABMD', 'ACN', 'ATVI', 'ADBE', 'AAP', 'AES', 'AFL', 'A', 'AIG', 'APD', 'AKAM', 'ALK', 'ALB', 'ARE', 'ALGN', 'ALLE', 'LNT', 'ALL', 'GOOGL', 'GOOG', 'MO', 'AMZN', 'AMCR', 'AMD', 'AEE', 'AAL', 'AEP', 'AXP', 'AMT', 'AWK', 'AMP', 'ABC', 'AME', 'AMGN', 'APH', 'ADI', 'ANSS', 'ANTM', 'AON', 'APA', 'AAPL', 'AMAT', 'APTV', 'ADM', 'ANET', 'AJG', 'AIZ', 'T', 'ATO', 'ADSK', 'ADP', 'AZO', 'AVB', 'AVY', 'BKR', 'BLL', 'BAC', 'BBWI', 'BAX', 'BDX', 'BBY', 'BIO', 'TECH', 'BIIB', 'BLK', 'BK', 'BA', 'BKNG', 'BWA', 'BXP', 'BSX', 'BMY', 'AVGO', 'BR', 'BRO', 'CHRW', 'CDNS', 'CZR', 'CPB', 'COF', 'CAH', 'KMX', 'CCL', 'CARR', 'CTLT', 'CAT', 'CBOE', 'CBRE', 'CDW', 'CE', 'CNC', 'CNP', 'CDAY', 'CERN', 'CF', 'CRL', 'SCHW', 'CHTR', 'CVX', 'CMG', 'CB', 'CHD', 'CI', 'CINF', 'CTAS', 'CSCO', 'C', 'CFG', 'CTXS', 'CLX', 'CME', 'CMS', 'KO', 'CTSH', 'CL', 'CMCSA', 'CMA', 'CAG', 'COP', 'ED', 'STZ', 'COO', 'CPRT', 'GLW', 'CTVA', 'COST', 'CTRA', 'CCI', 'CSX', 'CMI', 'CVS', 'DHI', 'DHR', 'DRI', 'DVA', 'DE', 'DAL', 'XRAY', 'DVN', 'DXCM', 'FANG', 'DLR', 'DFS', 'DISCA', 'DISCK', 'DISH', 'DG', 'DLTR', 'D', 'DPZ', 'DOV', 'DOW', 'DTE', 'DUK', 'DRE', 'DD', 'DXC', 'EMN', 'ETN', 'EBAY', 'ECL', 'EIX', 'EW', 'EA', 'EMR', 'ENPH', 'ETR', 'EOG', 'EPAM', 'EFX', 'EQIX', 'EQR', 'ESS', 'EL', 'ETSY', 'EVRG', 'ES', 'RE', 'EXC', 'EXPE', 'EXPD', 'EXR', 'XOM', 'FFIV', 'FDS', 'FAST', 'FRT', 'FDX', 'FIS', 'FITB', 'FE', 'FRC', 'FISV', 'FLT', 'FMC', 'F', 'FTNT', 'FTV', 'FBHS', 'FOXA', 'FOX', 'BEN', 'FCX', 'GPS', 'GRMN', 'IT', 'GNRC', 'GD', 'GE', 'GIS', 'GM', 'GPC', 'GILD', 'GL', 'GPN', 'GS', 'GWW', 'HAL', 'HIG', 'HAS', 'HCA', 'PEAK', 'HSIC', 'HSY', 'HES', 'HPE', 'HLT', 'HOLX', 'HD', 'HON', 'HRL', 'HST', 'HWM', 'HPQ', 'HUM', 'HBAN', 'HII', 'IEX', 'IDXX', 'INFO', 'ITW', 'ILMN', 'INCY', 'IR', 'INTC', 'ICE', 'IBM', 'IP', 'IPG', 'IFF', 'INTU', 'ISRG', 'IVZ', 'IPGP', 'IQV', 'IRM', 'JKHY', 'J', 'JBHT', 'SJM', 'JNJ', 'JCI', 'JPM', 'JNPR', 'K', 'KEY', 'KEYS', 'KMB', 'KIM', 'KMI', 'KLAC', 'KHC', 'KR', 'LHX', 'LH', 'LRCX', 'LW', 'LVS', 'LDOS', 'LEN', 'LLY', 'LNC', 'LIN', 'LYV', 'LKQ', 'LMT', 'L', 'LOW', 'LUMN', 'LYB', 'MTB', 'MRO', 'MPC', 'MKTX', 'MAR', 'MMC', 'MLM', 'MAS', 'MA', 'MTCH', 'MKC', 'MCD', 'MCK', 'MDT', 'MRK', 'FB', 'MET', 'MTD', 'MGM', 'MCHP', 'MU', 'MSFT', 'MAA', 'MRNA', 'MHK', 'TAP', 'MDLZ', 'MPWR', 'MNST', 'MCO', 'MS', 'MOS', 'MSI', 'MSCI', 'NDAQ', 'NTAP', 'NFLX', 'NWL', 'NEM', 'NWSA', 'NWS', 'NEE', 'NLSN', 'NKE', 'NI', 'NSC', 'NTRS', 'NOC', 'NLOK', 'NCLH', 'NRG', 'NUE', 'NVDA', 'NVR', 'NXPI', 'ORLY', 'OXY', 'ODFL', 'OMC', 'OKE', 'ORCL', 'OGN', 'OTIS', 'PCAR', 'PKG', 'PH', 'PAYX', 'PAYC', 'PYPL', 'PENN', 'PNR', 'PBCT', 'PEP', 'PKI', 'PFE', 'PM', 'PSX', 'PNW', 'PXD', 'PNC', 'POOL', 'PPG', 'PPL', 'PFG', 'PG', 'PGR', 'PLD', 'PRU', 'PEG', 'PTC', 'PSA', 'PHM', 'PVH', 'QRVO', 'PWR', 'QCOM', 'DGX', 'RL', 'RJF', 'RTX', 'O', 'REG', 'REGN', 'RF', 'RSG', 'RMD', 'RHI', 'ROK', 'ROL', 'ROP', 'ROST', 'RCL', 'SPGI', 'CRM', 'SBAC', 'SLB', 'STX', 'SEE', 'SRE', 'NOW', 'SHW', 'SBNY', 'SPG', 'SWKS', 'SNA', 'SEDG', 'SO', 'LUV', 'SWK', 'SBUX', 'STT', 'STE', 'SYK', 'SIVB', 'SYF', 'SNPS', 'SYY', 'TMUS', 'TROW', 'TTWO', 'TPR', 'TGT', 'TEL', 'TDY', 'TFX', 'TER', 'TSLA', 'TXN', 'TXT', 'TMO', 'TJX', 'TSCO', 'TT', 'TDG', 'TRV', 'TRMB', 'TFC', 'TWTR', 'TYL', 'TSN', 'UDR', 'ULTA', 'USB', 'UAA', 'UA', 'UNP', 'UAL', 'UNH', 'UPS', 'URI', 'UHS', 'VLO', 'VTR', 'VRSN', 'VRSK', 'VZ', 'VRTX', 'VFC', 'VIAC', 'VTRS', 'V', 'VNO', 'VMC', 'WRB', 'WAB', 'WMT', 'WBA', 'DIS', 'WM', 'WAT', 'WEC', 'WFC', 'WELL', 'WST', 'WDC', 'WRK', 'WY', 'WHR', 'WMB', 'WLTW', 'WYNN', 'XEL', 'XLNX', 'XYL', 'YUM', 'ZBRA', 'ZBH', 'ZION', 'ZTS']"
      ]
    },
    {
      "cell_type": "code",
      "execution_count": null,
      "metadata": {
        "id": "iQD7aCCmQWOI",
        "outputId": "c9b98d1f-8cfb-46cd-f2f0-a2dec2a0462c"
      },
      "outputs": [
        {
          "name": "stdout",
          "output_type": "stream",
          "text": [
            "MMM\n",
            "AOS\n",
            "ABT\n",
            "ABBV\n",
            "ABMD\n",
            "ACN\n",
            "ATVI\n",
            "ADBE\n",
            "AAP\n",
            "AES\n",
            "AFL\n",
            "A\n",
            "AIG\n",
            "APD\n",
            "AKAM\n",
            "ALK\n",
            "ALB\n",
            "ARE\n",
            "ALGN\n",
            "ALLE\n",
            "LNT\n",
            "ALL\n",
            "GOOGL\n",
            "GOOG\n",
            "MO\n",
            "AMZN\n",
            "AMCR\n",
            "AMD\n",
            "AEE\n",
            "AAL\n",
            "AEP\n",
            "AXP\n",
            "AMT\n",
            "AWK\n",
            "AMP\n",
            "ABC\n",
            "AME\n",
            "AMGN\n",
            "APH\n",
            "ADI\n",
            "ANSS\n",
            "ANTM\n",
            "AON\n",
            "APA\n",
            "AAPL\n",
            "AMAT\n",
            "APTV\n",
            "ADM\n",
            "ANET\n",
            "AJG\n",
            "AIZ\n",
            "T\n",
            "ATO\n",
            "ADSK\n",
            "ADP\n",
            "AZO\n",
            "AVB\n",
            "AVY\n",
            "BKR\n",
            "BLL\n",
            "BAC\n",
            "BBWI\n",
            "BAX\n",
            "BDX\n",
            "BBY\n",
            "BIO\n",
            "TECH\n",
            "BIIB\n",
            "BLK\n",
            "BK\n",
            "BA\n",
            "BKNG\n",
            "BWA\n",
            "BXP\n",
            "BSX\n",
            "BMY\n",
            "AVGO\n",
            "BR\n",
            "BRO\n",
            "CHRW\n",
            "CDNS\n",
            "CZR\n",
            "CPB\n",
            "COF\n",
            "CAH\n",
            "KMX\n",
            "CCL\n",
            "CARR\n",
            "CTLT\n",
            "CAT\n",
            "CBOE\n",
            "CBRE\n",
            "CDW\n",
            "CE\n",
            "CNC\n",
            "CNP\n",
            "CDAY\n",
            "CERN\n",
            "CF\n",
            "CRL\n",
            "SCHW\n",
            "CHTR\n",
            "CVX\n",
            "CMG\n",
            "CB\n",
            "CHD\n",
            "CI\n",
            "CINF\n",
            "CTAS\n",
            "CSCO\n",
            "C\n",
            "CFG\n",
            "CTXS\n",
            "CLX\n",
            "CME\n",
            "CMS\n",
            "KO\n",
            "CTSH\n",
            "CL\n",
            "CMCSA\n",
            "CMA\n",
            "CAG\n",
            "COP\n",
            "ED\n",
            "STZ\n",
            "COO\n",
            "CPRT\n",
            "GLW\n",
            "CTVA\n",
            "COST\n",
            "CTRA\n",
            "CCI\n",
            "CSX\n",
            "CMI\n",
            "CVS\n",
            "DHI\n",
            "DHR\n",
            "DRI\n",
            "DVA\n",
            "DE\n",
            "DAL\n",
            "XRAY\n",
            "DVN\n",
            "DXCM\n",
            "FANG\n",
            "DLR\n",
            "DFS\n",
            "DISCA\n",
            "DISCK\n",
            "DISH\n",
            "DG\n",
            "DLTR\n",
            "D\n",
            "DPZ\n",
            "DOV\n",
            "DOW\n",
            "DTE\n",
            "DUK\n",
            "DRE\n",
            "DD\n",
            "DXC\n",
            "EMN\n",
            "ETN\n",
            "EBAY\n",
            "ECL\n",
            "EIX\n",
            "EW\n",
            "EA\n",
            "EMR\n",
            "ENPH\n",
            "ETR\n",
            "EOG\n",
            "EPAM\n",
            "EFX\n",
            "EQIX\n",
            "EQR\n",
            "ESS\n",
            "EL\n",
            "ETSY\n",
            "EVRG\n",
            "ES\n",
            "RE\n",
            "EXC\n",
            "EXPE\n",
            "EXPD\n",
            "EXR\n",
            "XOM\n",
            "FFIV\n",
            "FDS\n",
            "FAST\n",
            "FRT\n",
            "FDX\n",
            "FIS\n",
            "FITB\n",
            "FE\n",
            "FRC\n",
            "FISV\n",
            "FLT\n",
            "FMC\n",
            "F\n",
            "FTNT\n",
            "FTV\n",
            "FBHS\n",
            "FOXA\n",
            "FOX\n",
            "BEN\n",
            "FCX\n",
            "GPS\n",
            "GRMN\n",
            "IT\n",
            "GNRC\n",
            "GD\n",
            "GE\n",
            "GIS\n",
            "GM\n",
            "GPC\n",
            "GILD\n",
            "GL\n",
            "GPN\n",
            "GS\n",
            "GWW\n",
            "HAL\n",
            "HIG\n",
            "HAS\n",
            "HCA\n",
            "PEAK\n",
            "HSIC\n",
            "HSY\n",
            "HES\n",
            "HPE\n",
            "HLT\n",
            "HOLX\n",
            "HD\n",
            "HON\n",
            "HRL\n",
            "HST\n",
            "HWM\n",
            "HPQ\n",
            "HUM\n",
            "HBAN\n",
            "HII\n",
            "IEX\n",
            "IDXX\n",
            "INFO\n",
            "ITW\n",
            "ILMN\n",
            "INCY\n",
            "IR\n",
            "INTC\n",
            "ICE\n",
            "IBM\n",
            "IP\n",
            "IPG\n",
            "IFF\n",
            "INTU\n",
            "ISRG\n",
            "IVZ\n",
            "IPGP\n",
            "IQV\n",
            "IRM\n",
            "JKHY\n",
            "J\n",
            "JBHT\n",
            "SJM\n",
            "JNJ\n",
            "JCI\n",
            "JPM\n",
            "JNPR\n",
            "K\n",
            "KEY\n",
            "KEYS\n",
            "KMB\n",
            "KIM\n",
            "KMI\n",
            "KLAC\n",
            "KHC\n",
            "KR\n",
            "LHX\n",
            "LH\n",
            "LRCX\n",
            "LW\n",
            "LVS\n",
            "LDOS\n",
            "LEN\n",
            "LLY\n",
            "LNC\n",
            "LIN\n",
            "LYV\n",
            "LKQ\n",
            "LMT\n",
            "L\n",
            "LOW\n",
            "LUMN\n",
            "LYB\n",
            "MTB\n",
            "MRO\n",
            "MPC\n",
            "MKTX\n",
            "MAR\n",
            "MMC\n",
            "MLM\n",
            "MAS\n",
            "MA\n",
            "MTCH\n",
            "MKC\n",
            "MCD\n",
            "MCK\n",
            "MDT\n",
            "MRK\n",
            "FB\n",
            "MET\n",
            "MTD\n",
            "MGM\n",
            "MCHP\n",
            "MU\n",
            "MSFT\n",
            "MAA\n",
            "MRNA\n",
            "MHK\n",
            "TAP\n",
            "MDLZ\n",
            "MPWR\n",
            "MNST\n",
            "MCO\n",
            "MS\n",
            "MOS\n",
            "MSI\n",
            "MSCI\n",
            "NDAQ\n",
            "NTAP\n",
            "NFLX\n",
            "NWL\n",
            "NEM\n",
            "NWSA\n",
            "NWS\n",
            "NEE\n",
            "NLSN\n",
            "NKE\n",
            "NI\n",
            "NSC\n",
            "NTRS\n",
            "NOC\n",
            "NLOK\n",
            "NCLH\n",
            "NRG\n",
            "NUE\n",
            "NVDA\n",
            "NVR\n",
            "NXPI\n",
            "ORLY\n",
            "OXY\n",
            "ODFL\n",
            "OMC\n",
            "OKE\n",
            "ORCL\n",
            "OGN\n",
            "OTIS\n",
            "PCAR\n",
            "PKG\n",
            "PH\n",
            "PAYX\n",
            "PAYC\n",
            "PYPL\n",
            "PENN\n",
            "PNR\n",
            "PBCT\n",
            "PEP\n",
            "PKI\n",
            "PFE\n",
            "PM\n",
            "PSX\n",
            "PNW\n",
            "PXD\n",
            "PNC\n",
            "POOL\n",
            "PPG\n",
            "PPL\n",
            "PFG\n",
            "PG\n",
            "PGR\n",
            "PLD\n",
            "PRU\n",
            "PEG\n",
            "PTC\n",
            "PSA\n",
            "PHM\n",
            "PVH\n",
            "QRVO\n",
            "PWR\n",
            "QCOM\n",
            "DGX\n",
            "RL\n",
            "RJF\n",
            "RTX\n",
            "O\n",
            "REG\n",
            "REGN\n",
            "RF\n",
            "RSG\n",
            "RMD\n",
            "RHI\n",
            "ROK\n",
            "ROL\n",
            "ROP\n",
            "ROST\n",
            "RCL\n",
            "SPGI\n",
            "CRM\n",
            "SBAC\n",
            "SLB\n",
            "STX\n",
            "SEE\n",
            "SRE\n",
            "NOW\n",
            "SHW\n",
            "SBNY\n",
            "SPG\n",
            "SWKS\n",
            "SNA\n",
            "SEDG\n",
            "SO\n",
            "LUV\n",
            "SWK\n",
            "SBUX\n",
            "STT\n",
            "STE\n",
            "SYK\n",
            "SIVB\n",
            "SYF\n",
            "SNPS\n",
            "SYY\n",
            "TMUS\n",
            "TROW\n",
            "TTWO\n",
            "TPR\n",
            "TGT\n",
            "TEL\n",
            "TDY\n",
            "TFX\n",
            "TER\n",
            "TSLA\n",
            "TXN\n",
            "TXT\n",
            "TMO\n",
            "TJX\n",
            "TSCO\n",
            "TT\n",
            "TDG\n",
            "TRV\n",
            "TRMB\n",
            "TFC\n",
            "TWTR\n",
            "TYL\n",
            "TSN\n",
            "UDR\n",
            "ULTA\n",
            "USB\n",
            "UAA\n",
            "UA\n",
            "UNP\n",
            "UAL\n",
            "UNH\n",
            "UPS\n",
            "URI\n",
            "UHS\n",
            "VLO\n",
            "VTR\n",
            "VRSN\n",
            "VRSK\n",
            "VZ\n",
            "VRTX\n",
            "VFC\n",
            "VIAC\n",
            "VTRS\n",
            "V\n",
            "VNO\n",
            "VMC\n",
            "WRB\n",
            "WAB\n",
            "WMT\n",
            "WBA\n",
            "DIS\n",
            "WM\n",
            "WAT\n",
            "WEC\n",
            "WFC\n",
            "WELL\n",
            "WST\n",
            "WDC\n",
            "WRK\n",
            "WY\n",
            "WHR\n",
            "WMB\n",
            "WLTW\n",
            "WYNN\n",
            "XEL\n",
            "XLNX\n",
            "XYL\n",
            "YUM\n",
            "ZBRA\n",
            "ZBH\n",
            "ZION\n",
            "ZTS\n"
          ]
        }
      ],
      "source": [
        "prolst=[]\n",
        "loslst=[]\n",
        "\n",
        "pilist=[]\n",
        "lilist=[]\n",
        "incsp=[]\n",
        "incsl=[]\n",
        "X=[]\n",
        "Y=[]\n",
        "count=0\n",
        "profits=0\n",
        "pc=0\n",
        "lc=0\n",
        "position=0\n",
        "tdays=0\n",
        "\n",
        "avgp=0\n",
        "avgl=0\n",
        "\n",
        "pdays=0\n",
        "ldays=0\n",
        "\n",
        "for ticker in new_tickers:#,'2','3']:\n",
        "    print(ticker)\n",
        "\n",
        "    if(True):\n",
        "        sp=0\n",
        "        sc=0\n",
        "    \n",
        "        #dff=getStockData(symbol,'2010-10-01','2021-11-29')\n",
        "        #dff=pd.read_csv(\"SP600/\"+symbol+\".csv\")\n",
        "        #dff=pd.read_csv(\"FX15/EURUSD\"+symbol +\".csv\")\n",
        "        dff=pd.read_csv(\"SP500/\"+ticker+\".csv\")\n",
        "        dff_close=dff['Close'].copy()\n",
        "        dff_high=dff['High'].copy()\n",
        "        dff_low=dff['Low'].copy()\n",
        "        dff_open=dff['Open'].copy()\n",
        "        dff_vol=dff['Volume'].copy()\n",
        "        dff_date=dff['Date'].copy()\n",
        "      \n",
        "        n=40\n",
        "        x=120\n",
        "        \n",
        "        \n",
        "\n",
        "        for i in range(x+1,len(dff)-2):\n",
        "            \n",
        "            if(position==1):\n",
        "                days+=1\n",
        "                \n",
        "            if(position==0):\n",
        "                days=0\n",
        "            \n",
        "            \n",
        "            \n",
        "            if(position==0 and  (dff_close[i]-dff_close[i-x])/dff_close[i-x]>0.5 and dff_close[i]>=np.amax(dff_high[i-n:i]) ):\n",
        "                \n",
        "                inc=(dff_close[i]-dff_close[i-x])/dff_close[i-x]\n",
        "                il=i\n",
        "                days=0\n",
        "                \n",
        "                \n",
        "               \n",
        "                if(True):\n",
        "                    \n",
        "                    #ts = int(dff_time[i])\n",
        "\n",
        "                    #print(datetime.utcfromtimestamp(ts).strftime('%Y-%m-%d %H:%M:%S')) \n",
        "                    \n",
        "                    #print(dff_date[i])\n",
        "                    lowest=0\n",
        "                    highest=0\n",
        "                    \n",
        "                    count+=1\n",
        "                    sc+=1\n",
        "                    position=1\n",
        "                    bp=dff_open[i+1]\n",
        "                    highp=bp\n",
        "                    si=i\n",
        "                              \n",
        "                    \n",
        "            elif(position==1):\n",
        "                    \n",
        "                if(True):\n",
        "                    \n",
        "                    if( dff_low[i]<=np.amin(dff_low[int(i-((n)/2)):i]) or i>len(dff_close)-2 or (bp-dff_low[i])/bp>0.15 ) :\n",
        "                        \n",
        "                        position=0   \n",
        "                        sp=dff_open[i+1]\n",
        "                        \n",
        "                    \n",
        "            \n",
        "                        if(sp-bp)>0 :\n",
        "                            #print('profit')\n",
        "                            pc+=1\n",
        "                            profits+=((sp-bp)/bp)*100\n",
        "                            avgp+=((sp-bp)/bp)*100\n",
        "                            #profits+=(sp-bp)\n",
        "                            #avgp+=(sp-bp)\n",
        "                            incsp+=[inc]\n",
        "                            pilist+=[il]\n",
        "                            \n",
        "                            pdays+=days\n",
        "                            X+=[profits]\n",
        "                            Y+=[count]\n",
        "                            prolst+=[((sp-bp)/bp)*100]\n",
        "                            \n",
        "               \n",
        "                        elif(sp-bp)<0:\n",
        "                            #print('loss')\n",
        "                            lc+=1\n",
        "                            profits+=((sp-bp)/bp)*100\n",
        "                            avgl+=((sp-bp)/bp)*100\n",
        "                            #profits+=(sp-bp)\n",
        "                            #avgl+=(sp-bp)\n",
        "                            ldays+=days\n",
        "                            X+=[profits]\n",
        "                            Y+=[count]\n",
        "                            incsl+=[inc]\n",
        "                            lilist+=[il]\n",
        "                            loslst+=[((sp-bp)/bp)*100]\n",
        "                    \n",
        "                        tdays+=days"
      ]
    },
    {
      "cell_type": "code",
      "execution_count": null,
      "metadata": {
        "id": "S_Qw4oGwQWOK",
        "outputId": "7f64ea5a-8c51-4f24-a399-f064e1af4713"
      },
      "outputs": [
        {
          "name": "stdout",
          "output_type": "stream",
          "text": [
            "1278\n",
            "540\n",
            "738\n",
            "0.4225352112676056\n",
            "3.073132066617062\n",
            "36.95696400625978\n",
            "16.749235707269555\n",
            "-6.933773036299401\n",
            "59.43518518518518\n",
            "20.509485094850948\n"
          ]
        },
        {
          "data": {
            "image/png": "[encoded data removed]",
            "text/plain": [
              "<Figure size 432x288 with 1 Axes>"
            ]
          },
          "metadata": {
            "needs_background": "light"
          },
          "output_type": "display_data"
        },
        {
          "data": {
            "text/plain": [
              "'\\n1272\\n540\\n732\\n0.42452830188679247\\n3.0742835172985217\\n37.55974842767296\\n16.84869836215741\\n-7.0871700567777225\\n59.60925925925926\\n21.293715846994534'"
            ]
          },
          "execution_count": 18,
          "metadata": {},
          "output_type": "execute_result"
        }
      ],
      "source": [
        "print(count)\n",
        "print(pc)\n",
        "print(lc)\n",
        "print(pc/count)\n",
        "print((profits/count))\n",
        "print(tdays/count)\n",
        "print(avgp/pc)\n",
        "print(avgl/lc)\n",
        "print(pdays/pc)\n",
        "print(ldays/lc)\n",
        "plt.plot(Y,X)\n",
        "plt.show()\n",
        "\n",
        "\n",
        "\"\"\"\n",
        "1272\n",
        "540\n",
        "732\n",
        "0.42452830188679247\n",
        "3.0742835172985217\n",
        "37.55974842767296\n",
        "16.84869836215741\n",
        "-7.0871700567777225\n",
        "59.60925925925926\n",
        "21.293715846994534\"\"\"\n"
      ]
    },
    {
      "cell_type": "code",
      "execution_count": null,
      "metadata": {
        "id": "aP1inbBgQWOL",
        "outputId": "4bbcd1b1-b1be-44cb-a401-e780ff39f3cb"
      },
      "outputs": [
        {
          "name": "stdout",
          "output_type": "stream",
          "text": [
            "6.125198931211293\n"
          ]
        }
      ],
      "source": [
        "print(np.std(loslst))"
      ]
    },
    {
      "cell_type": "code",
      "execution_count": null,
      "metadata": {
        "id": "5vd9cTy7QWOM",
        "outputId": "fb4709e0-d0a3-41fe-9520-5860c906ce92"
      },
      "outputs": [
        {
          "data": {
            "image/png": "[encoded data removed]",
            "text/plain": [
              "<Figure size 432x288 with 1 Axes>"
            ]
          },
          "metadata": {
            "needs_background": "light"
          },
          "output_type": "display_data"
        }
      ],
      "source": [
        "plt.hist(prolst, bins = 500)\n",
        "plt.show()"
      ]
    },
    {
      "cell_type": "code",
      "execution_count": null,
      "metadata": {
        "id": "2tte1opiQWON",
        "outputId": "d3f8be53-b71e-43b1-e438-b3846b857b0b"
      },
      "outputs": [
        {
          "data": {
            "image/png": "[encoded data removed]",
            "text/plain": [
              "<Figure size 432x288 with 1 Axes>"
            ]
          },
          "metadata": {
            "needs_background": "light"
          },
          "output_type": "display_data"
        }
      ],
      "source": [
        "plt.hist(loslst, bins = 500)\n",
        "plt.show()"
      ]
    },
    {
      "cell_type": "code",
      "execution_count": null,
      "metadata": {
        "id": "SJC6rz2jQWOO",
        "outputId": "e12015da-3ce5-4f94-b4c2-099f55f5926d"
      },
      "outputs": [
        {
          "name": "stdout",
          "output_type": "stream",
          "text": [
            "24.070599494636497\n",
            "6.125198931211293\n"
          ]
        }
      ],
      "source": [
        "print(np.std(prolst))\n",
        "print(np.std(loslst))"
      ]
    },
    {
      "cell_type": "code",
      "execution_count": null,
      "metadata": {
        "id": "2hBXMYduQWOO"
      },
      "outputs": [],
      "source": [
        "newest_tickers=[]\n",
        "for ticker in new_tickers:\n",
        "    dff=pd.read_csv(\"SP600/\"+ticker+\"_10-21.csv\")\n",
        "    if(len(dff)==3013):\n",
        "        newest_tickers.append(ticker)"
      ]
    },
    {
      "cell_type": "code",
      "execution_count": null,
      "metadata": {
        "id": "qqnHDHBiQWOP"
      },
      "outputs": [],
      "source": [
        "newest_tickers=['AAON', 'AAWW', 'ABCB', 'ABG', 'ABM', 'ACLS', 'ADC', 'ADTN', 'ADUS', 'AEIS', 'AEL', 'AGO', 'AGYS', 'AIN', 'AIR', 'AIT', 'AJRD', 'AKR', 'ALG', 'ALGT', 'AMEH', 'AMN', 'AMSF', 'AMWD', 'ANDE', 'ANF', 'ANGO', 'ANIK', 'ANIP', 'APEI', 'APOG', 'ARCB', 'ARI', 'AROC', 'ARR', 'ASTE', 'ATGE', 'ATI', 'ATNI', 'AVA', 'AVAV', 'AVD', 'AWR', 'AX', 'AXL', 'AZZ', 'B', 'BANC', 'BANF', 'BANR', 'BBBY', 'BCOR', 'BCPC', 'BDN', 'BFS', 'BGS', 'BHE', 'BHLB', 'BIG', 'BJRI', 'BKE', 'BLFS', 'BMI', 'BOOM', 'BRC', 'BRKL', 'CAKE', 'CAL', 'CALM', 'CAMP', 'CASH', 'CATO', 'CBU', 'CCOI', 'CCRN', 'CDMO', 'CELH', 'CENT', 'CENTA', 'CENX', 'CEVA', 'CFFN', 'CHCO', 'CHS', 'CIR', 'CLB', 'CLW', 'CMTL', 'CNK', 'CNMD', 'CNSL', 'CNXN', 'COHU', 'COKE', 'COLB', 'CONN', 'CORT', 'CPE', 'CPF', 'CPK', 'CPSI', 'CRMT', 'CRS', 'CRVL', 'CRY', 'CSGS', 'CSII', 'CSR', 'CTS', 'CUTR', 'CVBF', 'CVCO', 'CVGW', 'CWT', 'CXW', 'CYH', 'CYTK', 'DBD', 'DBI', 'DCOM', 'DDD', 'DGII', 'DHC', 'DIN', 'DIOD', 'DLX', 'DORM', 'DRH', 'DRQ', 'DXPE', 'EAT', 'EBIX', 'EBS', 'ECOL', 'ECPG', 'EGBN', 'EGHT', 'EHTH', 'EIG', 'ENDP', 'ENSG', 'EPAC', 'EPAY', 'EPC', 'ESE', 'ETD', 'EXLS', 'EXPO', 'EXTR', 'EZPW', 'FARO', 'FBC', 'FBNC', 'FBP', 'FCF', 'FDP', 'FELE', 'FFBC', 'FIX', 'FIZZ', 'FMBI', 'FOE', 'FORM', 'FORR', 'FOSL', 'FSP', 'FSS', 'FUL', 'FWRD', 'GBX', 'GCO', 'GEO', 'GES', 'GFF', 'GHL', 'GIII', 'GLT', 'GNW', 'GPI', 'GPRE', 'GTLS', 'GTY', 'GVA', 'HA', 'HAFC', 'HAYN', 'HCI', 'HCSG', 'HFWA', 'HI', 'HIBB', 'HLIT', 'HLX', 'HMN', 'HNGR', 'HNI', 'HOPE', 'HP', 'HSC', 'HSII', 'HSKA', 'HSTM', 'HT', 'HTH', 'HTLD', 'HUBG', 'HVT', 'HWKN', 'HZO', 'IDCC', 'IIIN', 'INDB', 'INT', 'INVA', 'IOSP', 'IPAR', 'IRBT', 'ISBC', 'ITGR', 'ITRI', 'IVR', 'JBSS', 'JBT', 'JJSF', 'JOE', 'KALU', 'KAMN', 'KAR', 'KELYA', 'KFY', 'KLIC', 'KOP', 'KRA', 'KWR', 'LCII', 'LGND', 'LKFN', 'LL', 'LMAT', 'LNN', 'LPSN', 'LQDT', 'LTC', 'LXP', 'LZB', 'MANT', 'MATW', 'MATX', 'MCRI', 'MCS', 'MD', 'MDC', 'MDRX', 'MED', 'MEI', 'MERC', 'MGLN', 'MGPI', 'MHO', 'MLAB', 'MLI', 'MMSI', 'MNRO', 'MODV', 'MOV', 'MPAA', 'MRTN', 'MSEX', 'MTH', 'MTOR', 'MTRN', 'MTRX', 'MYE', 'MYGN', 'MYRG', 'NBR', 'NBTB', 'NEO', 'NFBK', 'NKTR', 'NP', 'NPK', 'NPO', 'NSIT', 'NTCT', 'NTGR', 'NTUS', 'NWBI', 'NWN', 'NX', 'NXGN', 'NYMT', 'ODP', 'OFG', 'OFIX', 'OI', 'OII', 'OIS', 'OMCL', 'OMI', 'ONB', 'OPI', 'OPRX', 'OSIS', 'OSPN', 'OSUR', 'OXM', 'PATK', 'PBH', 'PBI', 'PDCE', 'PDFS', 'PETS', 'PFBC', 'PFS', 'PGTI', 'PIPR', 'PKE', 'PLAB', 'PLCE', 'POLY', 'PLUS', 'PLXS', 'PMT', 'POWL', 'PPBI', 'PRA', 'PRAA', 'PRDO', 'PRFT', 'PRGS', 'PRK', 'PSMT', 'PTEN', 'RCII', 'RDNT', 'RES', 'REX', 'RGP', 'RGR', 'RILY', 'RMBS', 'RNST', 'ROCK', 'ROG', 'ROIC', 'RPT', 'RRC', 'RRGB', 'RUTH', 'RWT', 'SAFT', 'SAH', 'SANM', 'SBCF', 'SBH', 'SBSI', 'SCHL', 'SCL', 'SCSC', 'SCVL', 'SEM', 'SENEA', 'SFNC', 'SHEN', 'SHOO', 'SIG', 'SITC', 'SJI', 'SKT', 'SKYW', 'SLP', 'SM', 'SMP', 'SNBR', 'SNEX', 'SPPI', 'SPTN', 'SPXC', 'SRDX', 'SSP', 'STAR', 'STBA', 'STC', 'STRA', 'SVC', 'SWM', 'SWN', 'SXI', 'TBBK', 'TBI', 'TDS', 'TG', 'TGI', 'THRM', 'THS', 'TILE', 'TMP', 'TNC', 'TR', 'TREE', 'TRMK', 'TRST', 'TTEC', 'TTGT', 'TTMI', 'TUP', 'TVTY', 'TWI', 'TWO', 'UBA', 'UCBI', 'UCTT', 'UEIC', 'UFCS', 'UFI', 'UFPI', 'UHT', 'UIS', 'UNF', 'UNFI', 'USNA', 'USPH', 'UTL', 'UVE', 'UVV', 'VCEL', 'VECO', 'VG', 'VGR', 'VIAV', 'VIVO', 'VNDA', 'VRE', 'VRTS', 'VVI', 'WABC', 'WDFC', 'WETF', 'WGO', 'WIRE', 'WNC', 'WRE', 'WRLD', 'WSFS', 'WTS', 'WW', 'WWW', 'XPER', 'ZEUS', 'ZUMZ', 'ZYXI']"
      ]
    },
    {
      "cell_type": "code",
      "execution_count": null,
      "metadata": {
        "id": "mYrNiCpiQWOP",
        "outputId": "eaa2e271-34c0-4cca-e993-5e614aaf859c"
      },
      "outputs": [
        {
          "name": "stdout",
          "output_type": "stream",
          "text": [
            "452\n"
          ]
        }
      ],
      "source": [
        "print(len(newest_tickers))"
      ]
    },
    {
      "cell_type": "code",
      "execution_count": null,
      "metadata": {
        "id": "c13l7SLPQWOQ"
      },
      "outputs": [],
      "source": [
        "#simulation trading"
      ]
    },
    {
      "cell_type": "code",
      "execution_count": null,
      "metadata": {
        "id": "w6NH-KnbQWOQ"
      },
      "outputs": [],
      "source": [
        "import random\n",
        "random.shuffle(newest_tickers)"
      ]
    },
    {
      "cell_type": "code",
      "execution_count": null,
      "metadata": {
        "id": "TRqu1cugQWOR",
        "outputId": "f4ef62fb-eec1-41d7-a1c1-67a4015c0093"
      },
      "outputs": [
        {
          "name": "stdout",
          "output_type": "stream",
          "text": [
            "['CAL', 'HP', 'EXLS', 'TMP', 'RWT', 'CSGS', 'KFY', 'HZO', 'WSFS', 'PSMT', 'CRMT', 'MPAA', 'KOP', 'ENDP', 'UFI', 'GFF', 'TBI', 'UBA', 'TTGT', 'CPSI', 'DCOM', 'PMT', 'HIBB', 'RDNT', 'POWL', 'SAFT', 'OI', 'UHT', 'NP', 'CVBF', 'UCTT', 'FOE', 'HLX', 'OSUR', 'LXP', 'SEM', 'CNSL', 'SANM', 'WGO', 'GVA', 'ARR', 'SLP', 'PETS', 'HCI', 'SIG', 'PRGS', 'TGI', 'VRTS', 'SJI', 'SCVL', 'CLB', 'HLIT', 'SNBR', 'DDD', 'NFBK', 'PATK', 'LTC', 'HAFC', 'PKE', 'INVA', 'HFWA', 'CELH', 'HAYN', 'WNC', 'FARO', 'MYGN', 'SXI', 'ARCB', 'ATI', 'ABCB', 'FFBC', 'CNMD', 'UNFI', 'MTH', 'RILY', 'B', 'TVTY', 'HSTM', 'THS', 'SITC', 'CSR', 'CBU', 'COHU', 'KRA', 'SBCF', 'BRKL', 'EXPO', 'RMBS', 'HNI', 'ANGO', 'OXM', 'EGBN', 'MD', 'PBI', 'OFG', 'CATO', 'DGII', 'WIRE', 'AIN', 'SBSI', 'HCSG', 'ADC', 'JBSS', 'HI', 'AMSF', 'MSEX', 'SHEN', 'WRLD', 'CPE', 'VG', 'SWM', 'CENT', 'LZB', 'EXTR', 'ACLS', 'ATNI', 'NTGR', 'WABC', 'PLCE', 'KAMN', 'FORR', 'AIR', 'ANIK', 'ANDE', 'VRE', 'JOE', 'USPH', 'SCL', 'ZUMZ', 'RPT', 'USNA', 'FBC', 'UVV', 'BHE', 'SRDX', 'MOV', 'STRA', 'NXGN', 'OMI', 'NWN', 'AXL', 'NEO', 'AZZ', 'CPF', 'GPI', 'TG', 'FBNC', 'UEIC', 'VIAV', 'CMTL', 'EPAC', 'APOG', 'AVD', 'UFCS', 'CTS', 'CPK', 'TWI', 'UTL', 'PDFS', 'GES', 'PTEN', 'MGPI', 'BANF', 'ARI', 'KAR', 'NTCT', 'AMN', 'FIZZ', 'MANT', 'TTEC', 'HSC', 'MCRI', 'PLUS', 'CRVL', 'HNGR', 'NWBI', 'CENX', 'FORM', 'ZYXI', 'BOOM', 'WRE', 'VCEL', 'MYRG', 'IPAR', 'SKYW', 'CASH', 'PRDO', 'ITGR', 'TBBK', 'LL', 'PFS', 'CRS', 'EGHT', 'ECPG', 'LGND', 'BRC', 'CLW', 'EPC', 'RES', 'DXPE', 'NPO', 'VVI', 'LCII', 'CAKE', 'HWKN', 'OMCL', 'CDMO', 'VECO', 'OPI', 'OFIX', 'UIS', 'JJSF', 'PDCE', 'MATX', 'SPTN', 'UCBI', 'VNDA', 'FMBI', 'CCOI', 'MMSI', 'TDS', 'ANIP', 'CAMP', 'MRTN', 'CVCO', 'TRST', 'COKE', 'THRM', 'CNXN', 'EIG', 'ATGE', 'MDRX', 'MLAB', 'TILE', 'ANF', 'HTLD', 'EBIX', 'LKFN', 'DIOD', 'ADUS', 'FSP', 'AMWD', 'BIG', 'MYE', 'NPK', 'MTRN', 'PRA', 'NKTR', 'OIS', 'CRY', 'IVR', 'STBA', 'CXW', 'RGP', 'IDCC', 'GPRE', 'TWO', 'MCS', 'REX', 'RRGB', 'DRQ', 'MHO', 'BFS', 'CUTR', 'ADTN', 'DLX', 'NBR', 'RNST', 'AX', 'TTMI', 'CYTK', 'BJRI', 'AEL', 'ETD', 'SPXC', 'IIIN', 'ROIC', 'ALGT', 'MTRX', 'MATW', 'SM', 'FUL', 'AVA', 'LNN', 'EBS', 'TUP', 'IRBT', 'RRC', 'WETF', 'HTH', 'EAT', 'SHOO', 'TR', 'BANR', 'GLT', 'AGYS', 'CALM', 'PLAB', 'MTOR', 'UNF', 'HOPE', 'HT', 'NBTB', 'CVGW', 'ENSG', 'ONB', 'ABM', 'OPRX', 'ECOL', 'POLY', 'AAON', 'LMAT', 'OSIS', 'AIT', 'SMP', 'AGO', 'GTLS', 'BGS', 'GCO', 'HSKA', 'ROG', 'AJRD', 'SENEA', 'SSP', 'AKR', 'TREE', 'GEO', 'MED', 'DBI', 'MLI', 'SPPI', 'WWW', 'AVAV', 'DHC', 'AMEH', 'MGLN', 'APEI', 'VIVO', 'ROCK', 'VGR', 'XPER', 'INT', 'ZEUS', 'AWR', 'SWN', 'GTY', 'PRFT', 'CCRN', 'FSS', 'ESE', 'PIPR', 'NX', 'ITRI', 'STC', 'IOSP', 'SBH', 'MDC', 'KWR', 'COLB', 'BKE', 'TNC', 'WDFC', 'WTS', 'SCSC', 'CYH', 'KALU', 'BBBY', 'FELE', 'BLFS', 'GBX', 'LPSN', 'MODV', 'ASTE', 'DIN', 'BMI', 'BHLB', 'AROC', 'AAWW', 'EZPW', 'FCF', 'HUBG', 'DBD', 'BCPC', 'EPAY', 'INDB', 'CSII', 'CFFN', 'CIR', 'WW', 'GHL', 'NYMT', 'PFBC', 'HVT', 'CEVA', 'RGR', 'CENTA', 'KELYA', 'MERC', 'MEI', 'SNEX', 'HMN', 'CHCO', 'BCOR', 'CONN', 'PRK', 'TRMK', 'RUTH', 'PRAA', 'OSPN', 'SVC', 'SKT', 'MNRO', 'EHTH', 'NSIT', 'FOSL', 'CORT', 'RCII', 'DRH', 'CWT', 'CHS', 'HA', 'CNK', 'DORM', 'OII', 'HSII', 'ALG', 'BANC', 'PGTI', 'UFPI', 'SAH', 'ODP', 'UVE', 'ISBC', 'FBP', 'LQDT', 'PBH', 'FDP', 'STAR', 'FWRD', 'BDN', 'AEIS', 'SCHL', 'JBT', 'GIII', 'PPBI', 'NTUS', 'PLXS', 'GNW', 'SFNC', 'ABG', 'KLIC', 'FIX']\n"
          ]
        }
      ],
      "source": [
        "print(newest_tickers)"
      ]
    },
    {
      "cell_type": "code",
      "execution_count": null,
      "metadata": {
        "id": "9O6-FkQCQWOS"
      },
      "outputs": [],
      "source": [
        "\n",
        "n=40\n",
        "x=120\n",
        "\n",
        "counter=0\n",
        "pcounter=0\n",
        "lcounter=0\n",
        "profits=[]\n",
        "\n",
        "loses=[]\n",
        "pdays=[]\n",
        "ldays=[]\n",
        "tlst=[]\n",
        "\n",
        "trades=[]\n",
        "indexes=[]\n",
        "\n",
        "ct=10\n",
        "ctl=[]\n",
        "\n",
        "investment_lst=[1]*ct\n",
        "\n",
        "for i in range(201,3012):\n",
        "    \n",
        "    \n",
        "    new_ctl=[]\n",
        "    c=0\n",
        "    for lst in ctl:\n",
        "        dff=pd.read_csv(\"SP600/\"+lst[0]+\"_10-21.csv\")\n",
        "        dff_close=dff['Close'].copy()\n",
        "        dff_high=dff['High'].copy()\n",
        "        dff_low=dff['Low'].copy()\n",
        "        dff_open=dff['Open'].copy()\n",
        "        dff_date=dff['Date'].copy()\n",
        "        \n",
        "        if( dff_low[i]<=np.amin(dff_low[int(i-((n)/2)):i]) or i>len(dff_close)-2) :\n",
        "            sp=dff_open[i+1]\n",
        "            tlst.remove(lst[0])\n",
        "            bp=lst[1]\n",
        "            \n",
        "            if(sp>bp):\n",
        "                print(lst[0]+'  '+dff_date[i+1]+' profit')\n",
        "                #print('profit')\n",
        "                #plt.plot(dff_close[lst[2]:i+1])\n",
        "                #plt.show()\n",
        "                pcounter+=1\n",
        "                profits+=[(sp-bp)/bp]\n",
        "                pdays+=[i-lst[2]]\n",
        "                #trades+=[((sp-bp)/bp)/ct]\n",
        "                indexes+=[i]\n",
        "                \n",
        "                investment_lst[c]=investment_lst[c]*(1+((sp-bp)/bp))\n",
        "                trades+=[np.sum(investment_lst)]\n",
        "\n",
        "\n",
        "                \n",
        "            else:\n",
        "                print(lst[0]+'  '+dff_date[i+1]+' loss')\n",
        "                #print('loss')\n",
        "                #plt.plot(dff_close[lst[2]:i+1])\n",
        "                #plt.show()\n",
        "                lcounter+=1\n",
        "                loses+=[(sp-bp)/bp]\n",
        "                ldays+=[i-lst[2]]\n",
        "                #trades+=[((sp-bp)/bp)/ct]\n",
        "                indexes+=[i]\n",
        "                \n",
        "                investment_lst[c]=investment_lst[c]*(1+((sp-bp)/bp))\n",
        "                trades+=[np.sum(investment_lst)]\n",
        "            \n",
        "        \n",
        "        else:\n",
        "            new_ctl+=[lst]\n",
        "        c+=1\n",
        "            \n",
        "    ctl=new_ctl.copy()\n",
        "            \n",
        "             \n",
        "    \n",
        "    if(len(ctl)<ct):\n",
        "        for ticker in newest_tickers:\n",
        "            dff=pd.read_csv(\"SP600/\"+ticker+\"_10-21.csv\")\n",
        "            dff_close=dff['Close'].copy()\n",
        "            dff_high=dff['High'].copy()\n",
        "            dff_low=dff['Low'].copy()\n",
        "            dff_open=dff['Open'].copy()\n",
        "            dff_date=dff['Date'].copy()\n",
        "            \n",
        "            if( (ticker not in tlst) and (dff_close[i]-dff_close[i-x])/dff_close[i-x]>0.7 and dff_close[i]>=np.amax(dff_high[i-n:i]) and dff_close[i-1]<np.amax(dff_high[i-1-n:i-1])):\n",
        "                bp=dff_open[i+1]\n",
        "                ctl+=[[ticker,bp,i+1]]\n",
        "                tlst+=[ticker]\n",
        "                #print(ticker+'  '+dff_date[i+1])\n",
        "                counter+=1\n",
        "            \n",
        "            if(len(ctl)==ct):\n",
        "                break   \n"
      ]
    },
    {
      "cell_type": "code",
      "execution_count": null,
      "metadata": {
        "id": "P-gLeiMqQWOT",
        "outputId": "842c6af8-9aaa-4c7f-c178-06729a7192c6"
      },
      "outputs": [
        {
          "name": "stdout",
          "output_type": "stream",
          "text": [
            "[-0.014331862760969288, -0.010016556670438732, -0.011333330472310384, -0.007300820551268006, -0.01253465182987978, 0.008573137687159674, 0.005330542281959767, 0.0, -0.006099268794150365, 0.01292845240155623, -0.006106872513642002, 0.001164438353133012, -0.0061138433840199425, -0.014846621079081936, -0.006770833236320541, -0.012413794418861127, 0.02113402032293015, -0.00035789088199013157, -0.0026680897347103917, -0.008523706303902569, -0.01583577671602654, -1.875154086725653e-05, -0.017419351590930193, -0.023396569322389853, -0.003975407084096176, 0.000706567248825511, 0.0258555147655308, 0.008003445045912213, 0.02626132218369211, 0.008715897570417467, -0.0019767449855030623, -0.012238493984719465, -0.013714281717936197, -0.013642752681313755, -0.00859873281288736, -0.011148087367354367, 0.0012987000923330157, 0.03407079082133214, -0.011627042027325438, -0.0033807408659905155, 0.010593580344286981, -0.002281372681820002, -0.011704306123587969, -0.012598420880511729, -0.003874093980560285, -0.005292483134044631, 0.014285714285714285, 0.0002898506496263381, -0.010235329071442995, -0.011154097165576662, -0.009447168544951262, -0.0007179024878995747, 0.021794868816599033, -0.012107804324141835, -0.004031967245427693, -0.016656344544409986, -0.009935007289955822, -0.02203742110996787, -0.004161293275894657, 0.0005291025581380563, -0.005256056680440021, 0.006992342195897301, -0.012645008007213406, -0.001966493176192621, -0.011057303047593593, -0.008012537615493203, -0.0035309838678462832, -0.0023991304819892647, 0.025630090638623787, 0.006465996956464111, 0.006971284691460226, 0.0025227902062696, -0.01041666625274552, 0.14045584411336862, 0.014285712547969561, 0.0140035854386435, -0.002166320129465117, -0.0023362719114978434, 0.04194790555269974, -0.012147949538819041, -0.011822340757728173, -0.0033571447644914773, 0.0006193080931475522, -0.003634360423775918, -0.006540863667560816, 0.0015310276905219846, -0.016487456789836496, 0.04999999999999997, 0.006620430097505095, -0.020000002980232197, 0.08000000602006908, -0.01884984444140433, 0.028630449103337025, -0.027118648242510666, -0.013870962631193673, 0.012820506171126686, -0.03729729910851216, -0.002893170644601793, 0.04198161054843677, -0.0008176048043114238, 0.030142686009586177, 0.011458326323378487, 0.017704727034653686, -0.019767444310412538, -0.0013254808997573116, 0.06181932359666992, 0.11428570038375659, -0.0046483948434297585, 0.001587300025476756, -0.003735848192898719, -0.01563518011436793, -0.0038021068557344572, -0.018894883768935465, 0.019381849544824675, -0.013194445280648767, -0.00633245414122383, -0.005489612731807246, -0.004421767982437564, -0.006423168761120195, 0.020000002934382498, 0.0045454479774497845, -0.005816333034742452, 0.0067901189923144116, 0.015109889476487318, -0.016393446147009293, 0.0005820138231310532, -0.0005333328247070313, -0.011190478006998699, 0.0043196502013323704, -0.0004411795436303754, 0.01920242897172494, 0.02000000216744158, -0.008807483407330447, 0.01833522766362719, 0.03471165048654515, -0.025174823620267777, -0.0022598848748059987, -0.010934389588833922, 0.008254451852192781, -0.014194575266235982, 0.03290733850836201, 0.011096479243029455, -0.008291028490173751, 0.00129217047780383, -0.008809528386872052, 0.06294098111538257, 0.007458753112660842, 0.03131245025930919, 0.02275682067804011, 0.016193956584348784, -0.011538463553834115, -0.00010416904671315167, -0.0025373403234939334, -0.009311039694736234, 0.004999995157122685, -0.003896100276999061, -0.004419196693158436, -0.012328120315975246, 0.0011709425184461928, 0.008813413635163482, 0.006275977815457896, -0.004867252015929295, 0.030606068721195884, -0.009825148065676952, 0.0030197988321157203, -0.01981298426565261, 0.021917805406959995, 0.04473684392147121, 0.0, -0.00027874785890574636, 0.00752852284039177, -0.033824559261924354, 0.0137699093438883, -0.012869511543821727, -0.013017751048441047, 0.006731887383257508, 0.0017823025607339078, -0.006789244171930106, -0.0062689605849973766, 0.008455882965229384, 0.04714899316897855, -0.0014038888901476382, 0.13962263288030557, -0.007882034012986967, -0.004868918004727666, -0.01349955542325788, -0.012499995032946137, 0.008999253023198208, -0.0007205499426271796, -0.010413881933333452, -0.029203538469312618, -0.009065318635150308, 0.006818182126057051, -0.0616736401940771, -0.016821463505275094, -0.003122215702753754, 0.0003083781197012297, -0.004953217472489094, -0.012010111600393343, -0.008536582612655861, 0.03505619070743993, 0.008535952535140653, -0.008867917078554593, 0.019298248365865446, -0.00018331526218089497, 0.021364820274814178, 0.002205607476635514, 0.02687730410954959, -0.02142856838751807, 0.03493975947330571, 0.023556712052008256, -0.008287295818253769, 0.02425000190734865, -0.017250001430511475, -0.016206544799827364, 0.02922614741311013, 0.009124087559483912, -0.012571430206298828, -0.011894273811108112, -0.013289144416875134, -0.0035853771978237555, 0.006889351006132376, 0.006941431984402495, -0.007927237538883714, -0.01311110920376247, -0.01542065526847457, -0.0028020988851697633, -7.568042002812221e-05, -0.017375151316590124, 0.009354012454173588, -0.02022472304750964, 0.003500225636726545, -0.00291666984558104, -0.015789471372673006, 0.0007316302724838157, -0.009056601351770398, -0.017083334370122976, 0.03246873635636165, -0.0015421165791956162, 0.014212620683986706, -0.009744465325994482, -0.0014546739584208265, -0.014649146502822726, -0.008255454883332344, -0.002244299497801707, 0.09333332008785727, -0.00913845942570612, 0.006914375886578157, -0.001212125835996707, -0.01392962261276413, -0.009009012343263883, -0.015138461773212139, 0.01535345359773034, -0.007142857142857143, 0.003701796455268898, 0.019433100996925225, -0.019852818167445756, -0.008805928011259933, -0.008045580101400347, -0.010943834934718316, -0.009404052130161033, -0.014873035066505442, -0.020012908157529503, -0.0039966734951122655, -0.0037668169566207324, -0.006221411584533744, -0.02250000055879354, -0.04088291936363382, 0.01254791646661362, 0.025925922246626987, -0.0006387519631883071, -0.02399565720948269, -0.006500837375485099, -0.010180180861320826, -0.011501377573311412, -0.01654979363584915, -0.0069194919523762515, -0.0101344414496244, 0.021180365859573037, -0.012471648071338364, -0.014293157251435646, -0.0006997403603360283, 0.022207441538464368, -0.01258823731366327, 0.005255025712726018, -0.0013640226228142168, -0.00918367690782496, 0.009478676646787289, -0.0035025817306357774, -0.0004465147506359012, 0.0016304331981279857, -0.0026901005113924748, -0.008432151916420426, -0.006881291611956717, 0.0014673513978136388, -0.004738875859644229, -0.004899137537642631, 0.0, -0.008823525836860916, -0.008009510727248143, -0.009132420250399172, 0.0012170374212722964, -0.0089374344171317, 0.0, -0.0005172400638974823, 0.025925927234121127, 0.027510922486266486, 0.0005914266208647711, -0.009111994606336644, -0.00597938458944103, -0.00028168987598807305, -0.005248288737926621, -0.015260669016532192, 0.03741573108354766, 0.0021897824446098077, 0.008036456433754145, -0.015572323589204993, 0.0378774748218464, 0.005526311774002878, 0.0009300801967297238, -0.013888885209589783, -0.012195121951219513, -0.019221966502679783, 0.012052341217828928, 0.04803691371480624, 0.0020004870974547626, 0.0012966411422568977, -0.01352517418964783, -0.012024162593238217, -0.0022459896211679377, -0.014345997537669316, -0.014271934026704536, 0.047751609027572146, -0.01925354980988093, -0.005727007994113939, -0.0014778288095344135, -0.009533898150979101, 0.006293705905066944, -0.0037209266840025437, -0.00759894710333642, 0.04275914409764637, -0.0014084494035883509, -0.015011444528061288, -0.02065217019479523, -0.011380147335988104, 0.005132750020616727, 0.06501344787104767, -0.008461542411668669, 0.014266172670410023, -0.0013401232420161026, 0.02307193386605593, 0.003586741450912934, 0.006848034768854766, 0.004696134605278424, 0.0, -0.0019999960194463312, -0.019908398344316555, -0.009395970834718508, 0.06187499222345659, -0.014372552609911151, -0.007246376989647242, 0.138392862939865, 0.0009957281904053694, 0.016279073205964827, -0.012225708398387722, 0.008722734818574922, 0.006321571990790556, 0.016065578773373463, -0.0030737705398586235, -0.0011922435775789694, -0.005802473619197356, 0.022256261410405917, -0.021448599226204672, -0.009769538779416156, -0.0007700820306778872, -0.018072288741323418, -0.028865981170108086, -0.0012422360248447203, -0.006801620668727859, -0.005759539489945567, 0.15606470055859098, -0.018372090657552097, 0.012714287894112723, -0.013571520107396434, -0.006902979577562146, -0.004384481611654947, -0.008219174741617399, 0.08450705010463891, 0.0662337586968372, 0.001423486167616018, -0.0001788081814667714, 0.06229404970673906, 0.004918608554573946, -0.003708613313586507, -0.019715448399436016, 0.06460176025202657, -0.012578181907108688, -0.0052673630828159995, -0.006363637519605232, 0.02526667277018229, -0.007727276195179332, -0.004769232334234775, 0.035778310554642964, 0.031797649429656225, 0.022634835384174448, -0.00216374754958686, 0.004411764476721868, -0.009597279597766063, 0.014048035240920373, -0.007392400427709651, -0.008608316281216211, 0.011406250128056837, -0.011695907411177086, 0.02941659738096115, -0.02321271078685623, -0.020410097996802625, 0.06906298024314914, -0.018749995210340965, -0.01942287823867924, 0.02468982217761222, -0.005553341026229739, 0.007863247863247862, -0.0044345002277101, -0.0038344263240021915, -0.0029368077444580512, -0.011276594121405418, 0.034363633936101756, -0.01706448806212721, 0.0010256439296633646, -0.008187208192372494, -0.002100840403479581, 0.024388922098991107, 0.0013146385304042966, -0.02222222222222222, -0.018156068301856964, 0.016565411357306832, 0.009861586057677976, -0.010074863728096588, -0.02249999841054281, -0.008523379482323443, -0.022361508857460414, -0.020546162704154054, 0.007379957735327158, -0.0032211451585966782, -0.006750001907348632, -0.003086649098346841, -0.0015759331405991246, -0.009652509676204249, -0.025978021307305976, -0.0004225916536683036, -0.005140391160547098, -0.015320540949206074, -0.02701342095018992, -0.012267961385350853, -0.013794836679995943, -0.0070707082870042695, -0.007164687795209947, -0.026525525634303306, 0.012151893034441332, -0.0036357315359169797, -0.0053198649263256105, -0.00697537876691586, -0.024348957387458812, 0.033788822392319805, -0.020269315993178424, 0.002255938746434942, 0.011646771063728766, 0.016877114984392823, -0.022596965997089765, -0.0026976451885141967, -0.006963788004849659, -0.01728628607784904, -0.015961312883112984, -0.02, 0.0970998878024241, 0.01841096224850173, 0.021219512236381997, -0.008869569197944972, 0.00725452203304551, 0.012791571212526215, -0.023411762013154872, -0.011012656646286013, -0.006082359634694418, -0.011179958862729699, -0.01840215554359135, -0.0005458536197354976, 0.003786847890060779, 0.005802820769833847, -0.016923075455885665, 0.018549581371330018, 0.036787014938601585, 0.04982579659222579, 0.023654037311686592, 0.020031544958372234, -0.008764518482600462, 0.042673181238939796, -0.015817163729291206, -0.006703915806722001, -0.007801005094647611, -0.004436384335431098, 0.024032972382575717, -0.0002220316932216952, 0.0048387050256521085, 0.0006755890192907765, -0.04564606814940701, 0.20339645642490978, 0.0010341449229333446, -0.009940124103289224, 0.13939218131631925, -0.02455515845145829, 0.06781389820191966, -0.00014981615874282253, 0.007545603779017393, 0.007869131814563196, -0.013405580014067262, -0.00032017129360980645, -0.003106927733092897, -0.01665237576969383, -0.009110538101265718, -0.007436643866891595, 0.009701826309714907, 0.002202344489879061, 0.03655589983872245, 0.12940274212756847, -0.013357142039707717, -0.010511905519586359, -0.012632172851888182, -0.004072679304365097, -0.01074196392069358, -0.011095046647283158, -0.01616847548626765, 0.0037287375964113563, 0.014911861533458585, -0.00360551581744144, 0.0057109530941174295, 0.0021301907454454377, -0.005614326413997934, -0.006504466264361972, 0.016643915855274756, 0.02344421127857032, -0.009066489573570183, 0.0012297603433664257, -0.024469370351146335, 0.008995085929878731, -0.012047619289822047, -0.00904316973311362, -0.017819704570889033, 0.02427599160069661, -0.013760577597772033, -0.026065634808572637, -0.009793014819716424, -0.009943715918369284]\n"
          ]
        }
      ],
      "source": [
        "print(trades)"
      ]
    },
    {
      "cell_type": "code",
      "execution_count": null,
      "metadata": {
        "id": "7ui2LH5XQWOU"
      },
      "outputs": [],
      "source": [
        "trades10c=[]\n",
        "tt=0\n",
        "i=0\n",
        "mul=1\n",
        "for vv in trades:\n",
        "    mul=tt+1\n",
        "    tt+=vv*mul\n",
        "    trades10c+=[tt]\n",
        "    i+=1"
      ]
    },
    {
      "cell_type": "code",
      "execution_count": null,
      "metadata": {
        "id": "oTNhXd-_QWOU",
        "outputId": "b4283050-9c0a-4506-ca11-a543a4a7c2cd"
      },
      "outputs": [
        {
          "data": {
            "image/png": "[encoded data removed]",
            "text/plain": [
              "<Figure size 432x288 with 1 Axes>"
            ]
          },
          "metadata": {
            "needs_background": "light"
          },
          "output_type": "display_data"
        }
      ],
      "source": [
        "plt.plot(trades,color='b')\n",
        "plt.show()"
      ]
    },
    {
      "cell_type": "code",
      "execution_count": null,
      "metadata": {
        "id": "rSG3dWb9QWOV",
        "outputId": "c5dbee79-62f8-4307-f74c-b10c69a86f98"
      },
      "outputs": [
        {
          "data": {
            "image/png": "[encoded data removed]",
            "text/plain": [
              "<Figure size 432x288 with 1 Axes>"
            ]
          },
          "metadata": {
            "needs_background": "light"
          },
          "output_type": "display_data"
        }
      ],
      "source": [
        "plt.plot(trades10,color='b')\n",
        "plt.show()"
      ]
    },
    {
      "cell_type": "code",
      "execution_count": null,
      "metadata": {
        "id": "I2UpGBLMQWOV",
        "outputId": "695cb058-605a-47f6-b9ac-a5360538c8f1"
      },
      "outputs": [
        {
          "data": {
            "image/png": "[encoded data removed]",
            "text/plain": [
              "<Figure size 432x288 with 1 Axes>"
            ]
          },
          "metadata": {
            "needs_background": "light"
          },
          "output_type": "display_data"
        }
      ],
      "source": [
        "plt.plot(trades10c,color='b')\n",
        "plt.show()"
      ]
    },
    {
      "cell_type": "code",
      "execution_count": null,
      "metadata": {
        "id": "-Ms_iKO7QWOV",
        "outputId": "a1b2d787-c1c7-4258-f9c0-91573812ec71"
      },
      "outputs": [
        {
          "data": {
            "image/png": "[encoded data removed]",
            "text/plain": [
              "<Figure size 432x288 with 1 Axes>"
            ]
          },
          "metadata": {
            "needs_background": "light"
          },
          "output_type": "display_data"
        }
      ],
      "source": [
        "plt.plot(ttrades,color='b')\n",
        "plt.show()"
      ]
    },
    {
      "cell_type": "code",
      "execution_count": null,
      "metadata": {
        "id": "wjPXlPaFQWOW",
        "outputId": "ea563254-094c-4a3e-ad22-fee19c8b38f2"
      },
      "outputs": [
        {
          "data": {
            "image/png": "[encoded data removed]",
            "text/plain": [
              "<Figure size 432x288 with 1 Axes>"
            ]
          },
          "metadata": {
            "needs_background": "light"
          },
          "output_type": "display_data"
        }
      ],
      "source": [
        "plt.plot(tttrades,color='b')\n",
        "plt.show()"
      ]
    },
    {
      "cell_type": "code",
      "execution_count": null,
      "metadata": {
        "id": "bAxrFrY9QWOW",
        "outputId": "1660ad72-f77a-41b1-ba16-aaa5e3da2b7e"
      },
      "outputs": [
        {
          "data": {
            "image/png": "[encoded data removed]",
            "text/plain": [
              "<Figure size 432x288 with 1 Axes>"
            ]
          },
          "metadata": {
            "needs_background": "light"
          },
          "output_type": "display_data"
        }
      ],
      "source": [
        "plt.plot(ttttrades,color='b')\n",
        "plt.show()"
      ]
    },
    {
      "cell_type": "code",
      "execution_count": null,
      "metadata": {
        "id": "6njvVxGTQWOW",
        "outputId": "5d02eccd-af72-472d-876e-431abd158dc7"
      },
      "outputs": [
        {
          "data": {
            "image/png": "[encoded data removed]",
            "text/plain": [
              "<Figure size 432x288 with 1 Axes>"
            ]
          },
          "metadata": {
            "needs_background": "light"
          },
          "output_type": "display_data"
        }
      ],
      "source": [
        "plt.plot(tttttrades,color='b')\n",
        "plt.show()"
      ]
    }
  ],
  "metadata": {
    "kernelspec": {
      "display_name": "Python 3",
      "language": "python",
      "name": "python3"
    },
    "language_info": {
      "codemirror_mode": {
        "name": "ipython",
        "version": 3
      },
      "file_extension": ".py",
      "mimetype": "text/x-python",
      "name": "python",
      "nbconvert_exporter": "python",
      "pygments_lexer": "ipython3",
      "version": "3.7.4"
    },
    "colab": {
      "name": "SP500_Time_Series_Momentum_Strategy.ipynb",
      "provenance": [],
      "collapsed_sections": []
    }
  },
  "nbformat": 4,
  "nbformat_minor": 0
}